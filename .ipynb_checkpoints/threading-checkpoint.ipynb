{
 "cells": [
  {
   "cell_type": "code",
   "execution_count": 4,
   "id": "9869da51",
   "metadata": {},
   "outputs": [],
   "source": [
    "# old module\n",
    "import _thread"
   ]
  },
  {
   "cell_type": "code",
   "execution_count": 8,
   "id": "794a3c15",
   "metadata": {},
   "outputs": [],
   "source": [
    "# new module using _thread\n",
    "import threading"
   ]
  },
  {
   "cell_type": "code",
   "execution_count": 78,
   "id": "a0ac0367",
   "metadata": {},
   "outputs": [
    {
     "name": "stdout",
     "output_type": "stream",
     "text": [
      "bye\n",
      "hello2hello1\n",
      "\n"
     ]
    }
   ],
   "source": [
    "from _thread import start_new_thread\n",
    "\n",
    "def printFunc1():\n",
    "    print(\"hello1\")\n",
    "    \n",
    "def printFunc2(msg):\n",
    "    print(msg)\n",
    "\n",
    "start_new_thread(printFunc1, ())\n",
    "start_new_thread(printFunc2, (\"hello2\",))\n",
    "\n",
    "print(\"bye\")"
   ]
  },
  {
   "cell_type": "code",
   "execution_count": 120,
   "id": "4e6ea255",
   "metadata": {},
   "outputs": [
    {
     "name": "stdout",
     "output_type": "stream",
     "text": [
      "14884\n"
     ]
    }
   ],
   "source": [
    "from _thread import start_new_thread\n",
    "\n",
    "sumOfNum = 0\n",
    "\n",
    "def calcSum(n):\n",
    "    global sumOfNum\n",
    "    for i in range(n):\n",
    "        sumOfNum += 1\n",
    "    return sumOfNum\n",
    "\n",
    "x = start_new_thread(calcSum, (10000,))\n",
    "\n",
    "print(x)"
   ]
  },
  {
   "cell_type": "code",
   "execution_count": 224,
   "id": "0cdd18f8",
   "metadata": {},
   "outputs": [
    {
     "name": "stdout",
     "output_type": "stream",
     "text": [
      "999368\n"
     ]
    }
   ],
   "source": [
    "from _thread import start_new_thread\n",
    "\n",
    "sumOfNum = 0\n",
    "\n",
    "def calcSum(n):\n",
    "    global sumOfNum\n",
    "    for i in range(n):\n",
    "        sumOfNum += 1\n",
    "    return sumOfNum\n",
    "\n",
    "start_new_thread(calcSum, (1000000,))\n",
    "from time import sleep\n",
    "sleep(0.0989)\n",
    "print(sumOfNum)"
   ]
  },
  {
   "cell_type": "code",
   "execution_count": 450,
   "id": "8cc9b41f",
   "metadata": {},
   "outputs": [
    {
     "name": "stdout",
     "output_type": "stream",
     "text": [
      "13570\n"
     ]
    }
   ],
   "source": [
    "from _thread import start_new_thread, allocate_lock\n",
    "from time import sleep\n",
    "\n",
    "lock = allocate_lock()\n",
    "\n",
    "sumOfNum = 0\n",
    "\n",
    "def calcSum(n):\n",
    "    global sumOfNum\n",
    "    for i in range(n):\n",
    "#         close lock\n",
    "        lock.acquire()\n",
    "        sumOfNum +=1\n",
    "#         open lock\n",
    "        lock.release()\n",
    "\n",
    "# Start The threads\n",
    "start_new_thread(calcSum, (100000//2,))\n",
    "start_new_thread(calcSum, (100000//2,))\n",
    "\n",
    "# give time for calculations...\n",
    "sleep(0.0000000000000000000000000005)\n",
    "\n",
    "# working, but this is really evil\n",
    "print(sumOfNum)"
   ]
  },
  {
   "cell_type": "code",
   "execution_count": 510,
   "id": "d0391d24",
   "metadata": {},
   "outputs": [
    {
     "name": "stdout",
     "output_type": "stream",
     "text": [
      "<_MainThread(MainThread, started 21952)>\n",
      "<_MainThread(MainThread, started 21952)><_MainThread(MainThread, started 21952)>\n",
      "\n"
     ]
    }
   ],
   "source": [
    "import threading\n",
    "\n",
    "def worker():\n",
    "#     print(\"hello threading\")\n",
    "    print(threading.main_thread())\n",
    "    pass\n",
    "    \n",
    "t1 = threading.Thread(target=worker)\n",
    "t2 = threading.Thread(target=worker)\n",
    "t1.start()\n",
    "t2.start()\n",
    "\n",
    "print(threading.main_thread())"
   ]
  },
  {
   "cell_type": "code",
   "execution_count": 2,
   "id": "108989af",
   "metadata": {},
   "outputs": [
    {
     "name": "stdout",
     "output_type": "stream",
     "text": [
      "67\n",
      "\n"
     ]
    }
   ],
   "source": [
    "import threading\n",
    "\n",
    "def worker():\n",
    "#     print(\"hello threading\")\n",
    "    print(threading.active_count())\n",
    "    pass\n",
    "    \n",
    "t1 = threading.Thread(target=worker)\n",
    "t2 = threading.Thread(target=worker)\n",
    "t1.start()\n",
    "t2.start()\n",
    "\n",
    "# print(threading.main_thread())"
   ]
  },
  {
   "cell_type": "code",
   "execution_count": 42,
   "id": "c6132238",
   "metadata": {},
   "outputs": [
    {
     "name": "stdout",
     "output_type": "stream",
     "text": [
      "<Thread(Thread-89, started 3876)><Thread(kobi, started 17920)>\n",
      "\n"
     ]
    }
   ],
   "source": [
    "import threading\n",
    "\n",
    "def worker():\n",
    "#     print(\"hello threading\")\n",
    "    print(threading.current_thread())\n",
    "#     pass\n",
    "    \n",
    "t1 = threading.Thread(target=worker)\n",
    "t1.name = \"kobi\"\n",
    "t2 = threading.Thread(target=worker)\n",
    "t2.start()\n",
    "t1.start()"
   ]
  },
  {
   "cell_type": "code",
   "execution_count": 44,
   "id": "b4ad436a",
   "metadata": {
    "scrolled": false
   },
   "outputs": [
    {
     "data": {
      "text/plain": [
       "[<_MainThread(MainThread, started 16452)>,\n",
       " <Thread(Thread-4, started daemon 20080)>,\n",
       " <Heartbeat(Thread-5, started daemon 14468)>,\n",
       " <HistorySavingThread(IPythonHistorySavingThread, started 22124)>,\n",
       " <ParentPollerWindows(Thread-3, started daemon 9384)>]"
      ]
     },
     "execution_count": 44,
     "metadata": {},
     "output_type": "execute_result"
    }
   ],
   "source": [
    "import threading\n",
    "\n",
    "def worker():\n",
    "#     print(\"hello threading\")\n",
    "#     print(threading.current_thread())\n",
    "#     print(str(threading.get_ident()) + \" \")\n",
    "    pass\n",
    "    \n",
    "t1 = threading.Thread(target=worker)\n",
    "t2 = threading.Thread(target=worker)\n",
    "t2.start()\n",
    "t1.start()\n",
    "\n",
    "threading.enumerate()"
   ]
  },
  {
   "cell_type": "code",
   "execution_count": 18,
   "id": "26c9a107",
   "metadata": {},
   "outputs": [
    {
     "name": "stdout",
     "output_type": "stream",
     "text": [
      "10000000\n",
      "10800000\n"
     ]
    }
   ],
   "source": [
    "import threading\n",
    "\n",
    "def worker(val):\n",
    "    x = 0\n",
    "    for i in range(val):\n",
    "        x = x + 1\n",
    "    print(x)\n",
    "\n",
    "t1 = threading.Thread(target=worker, args=(10800000,))\n",
    "t2 = threading.Thread(target=worker, args=(10000000,))\n",
    "\n",
    "t1.start()\n",
    "t2.start()"
   ]
  },
  {
   "cell_type": "code",
   "execution_count": 8,
   "id": "0e467c07",
   "metadata": {},
   "outputs": [
    {
     "name": "stdout",
     "output_type": "stream",
     "text": [
      "2 --> <Thread(kobi, started 11604)> \t\n",
      "5 --> <Thread(Thread-19, started 12268)> \t\n"
     ]
    }
   ],
   "source": [
    "import threading\n",
    "\n",
    "def worker(val):\n",
    "    mydata = threading.local()\n",
    "    mydata.x = 0\n",
    "    \n",
    "    for i in range(val):\n",
    "        mydata.x = mydata.x + 1\n",
    "    print(f'{mydata.x} --> {threading.current_thread()} \\t')\n",
    "\n",
    "t1 = threading.Thread(target=worker, args=(2,))\n",
    "t2 = threading.Thread(target=worker, args=(5,))\n",
    "t1.name = 'kobi'\n",
    "t1.start()\n",
    "t2.start()"
   ]
  },
  {
   "cell_type": "code",
   "execution_count": 14,
   "id": "9bc3fd94",
   "metadata": {},
   "outputs": [
    {
     "name": "stdout",
     "output_type": "stream",
     "text": [
      "doing work...\n"
     ]
    }
   ],
   "source": [
    "import threading\n",
    "\n",
    "class myWorker(threading.Thread):\n",
    "    def run(self):\n",
    "        print('doing work...')\n",
    "        \n",
    "        \n",
    "t1 = myWorker()\n",
    "t1.start()"
   ]
  },
  {
   "cell_type": "code",
   "execution_count": 44,
   "id": "be39ad4a",
   "metadata": {},
   "outputs": [
    {
     "name": "stdout",
     "output_type": "stream",
     "text": [
      "hello from callable obj!\n"
     ]
    }
   ],
   "source": [
    "import threading\n",
    "\n",
    "class myWorker(threading.Thread):\n",
    "    def __init__(self, target, *args):\n",
    "        self.target = target\n",
    "        threading.Thread.__init__(self)\n",
    "        \n",
    "    def run(self):\n",
    "        self.target()\n",
    "\n",
    "class callableObj:\n",
    "    def __call__(self):\n",
    "        print('hello from callable obj!')\n",
    "        \n",
    "\n",
    "co = callableObj()\n",
    "t1 = myWorker(co)\n",
    "t1.start()\n",
    "\n"
   ]
  },
  {
   "cell_type": "code",
   "execution_count": 45,
   "id": "072b6ce0",
   "metadata": {},
   "outputs": [
    {
     "name": "stdout",
     "output_type": "stream",
     "text": [
      "hello from sleepyWorker\n"
     ]
    }
   ],
   "source": [
    "import threading\n",
    "\n",
    "def sleepyWorker():\n",
    "    import time\n",
    "    time.sleep(2)\n",
    "    print('hello from sleepyWorker')\n",
    "   \n",
    "t1 = threading.Thread(target=sleepyWorker)\n",
    "t1.start()"
   ]
  },
  {
   "cell_type": "code",
   "execution_count": 52,
   "id": "c8da7dcc",
   "metadata": {},
   "outputs": [
    {
     "name": "stdout",
     "output_type": "stream",
     "text": [
      "start\n",
      "finish\n",
      "hello python\n"
     ]
    }
   ],
   "source": [
    "import threading\n",
    "\n",
    "def hello():\n",
    "    print('hello python')\n",
    "\n",
    "print('start')\n",
    "\n",
    "t = threading.Timer(3.0, hello)\n",
    "t.start()\n",
    "\n",
    "print('finish')"
   ]
  },
  {
   "cell_type": "code",
   "execution_count": null,
   "id": "b8578c91",
   "metadata": {},
   "outputs": [],
   "source": [
    "import threading\n",
    "\n",
    "ev = threading.Event()\n",
    "\n",
    "def worker(e):\n",
    "    while True:\n",
    "        x = input('enter a char: ')\n",
    "        if x == 'f':\n",
    "            e.set()\n",
    "            break\n",
    "\n",
    "def worker_2(e):\n",
    "    while not e.is_set():\n",
    "        pass\n",
    "    print('worker_2 says: event is set')\n",
    "    \n",
    "t1 = threading.Thread(target=worker, args=(ev,))\n",
    "t2 = threading.Thread(target=worker_2, args=(ev,))\n",
    "\n",
    "t1.start()\n",
    "t2.start()"
   ]
  }
 ],
 "metadata": {
  "kernelspec": {
   "display_name": "Python 3",
   "language": "python",
   "name": "python3"
  },
  "language_info": {
   "codemirror_mode": {
    "name": "ipython",
    "version": 3
   },
   "file_extension": ".py",
   "mimetype": "text/x-python",
   "name": "python",
   "nbconvert_exporter": "python",
   "pygments_lexer": "ipython3",
   "version": "3.8.8"
  }
 },
 "nbformat": 4,
 "nbformat_minor": 5
}
