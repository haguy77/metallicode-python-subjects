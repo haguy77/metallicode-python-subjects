{
 "cells": [
  {
   "cell_type": "code",
   "execution_count": 4,
   "id": "e541601e",
   "metadata": {},
   "outputs": [
    {
     "name": "stdout",
     "output_type": "stream",
     "text": [
      "this is a placeholder\n"
     ]
    }
   ],
   "source": [
    "str1 = \"this is a {}\".format('placeholder')\n",
    "print(str1)"
   ]
  },
  {
   "cell_type": "code",
   "execution_count": 5,
   "id": "1b5d8101",
   "metadata": {},
   "outputs": [
    {
     "name": "stdout",
     "output_type": "stream",
     "text": [
      "this placeholder is a placeholder\n"
     ]
    }
   ],
   "source": [
    "str1 = \"this {0} is a {0}\".format('placeholder')\n",
    "print(str1)"
   ]
  },
  {
   "cell_type": "code",
   "execution_count": 6,
   "id": "3bf5975f",
   "metadata": {},
   "outputs": [
    {
     "name": "stdout",
     "output_type": "stream",
     "text": [
      "this placeholder is a python\n"
     ]
    }
   ],
   "source": [
    "str1 = \"this {0} is a {1}\".format('placeholder', \"python\")\n",
    "print(str1)"
   ]
  },
  {
   "cell_type": "code",
   "execution_count": 8,
   "id": "f1ad519a",
   "metadata": {},
   "outputs": [
    {
     "name": "stdout",
     "output_type": "stream",
     "text": [
      "this python is a placeholder\n"
     ]
    }
   ],
   "source": [
    "str1 = \"this {1} is a {0}\".format('placeholder', \"python\")\n",
    "print(str1)"
   ]
  },
  {
   "cell_type": "code",
   "execution_count": 7,
   "id": "b5b2bd6e",
   "metadata": {},
   "outputs": [
    {
     "name": "stdout",
     "output_type": "stream",
     "text": [
      "this python is a placeholder\n"
     ]
    }
   ],
   "source": [
    "str1 = \"this {1} is a {0}\".format('placeholder', \"python\")\n",
    "print(str1)"
   ]
  },
  {
   "cell_type": "code",
   "execution_count": 9,
   "id": "11d9f790",
   "metadata": {},
   "outputs": [
    {
     "name": "stdout",
     "output_type": "stream",
     "text": [
      "this is a keyword argument\n"
     ]
    }
   ],
   "source": [
    "str1 = \"this is a {arg}\".format(arg = 'keyword argument')\n",
    "print(str1)"
   ]
  },
  {
   "cell_type": "code",
   "execution_count": 10,
   "id": "4e65ae64",
   "metadata": {},
   "outputs": [
    {
     "name": "stdout",
     "output_type": "stream",
     "text": [
      "this is a keyword argumentggggg\n"
     ]
    }
   ],
   "source": [
    "str1 = \"this is a {arg}{x}\".format(arg = 'keyword argument', x = 'ggggg')\n",
    "print(str1)"
   ]
  },
  {
   "cell_type": "code",
   "execution_count": 40,
   "id": "06bfd564",
   "metadata": {},
   "outputs": [
    {
     "name": "stdout",
     "output_type": "stream",
     "text": [
      "this is a 123\n",
      "this is a True\n",
      "this is a 0000123\n",
      "this is a 123.000\n",
      "this is a 123.123\n",
      "this is a 123,123,456\n",
      "this is s1 formatted s2\n",
      "this is a bill\n",
      "this is a                           bill\n",
      "this is a bill                          X\n",
      "this is a $$$$$$$$$$$$$bill$$$$$$$$$$$$$\n",
      "int: 54, hex: 36, oct 66, bin: 110110\n",
      "water/cup ratio: 20.00%\n",
      "this string is open\n"
     ]
    }
   ],
   "source": [
    "num = 123\n",
    "str1 = \"this is a {}\".format(num)\n",
    "print(str1)\n",
    "\n",
    "num = True\n",
    "str1 = \"this is a {}\".format(num)\n",
    "print(str1)\n",
    "\n",
    "num = 123\n",
    "str1 = \"this is a {:07}\".format(num)\n",
    "print(str1)\n",
    "\n",
    "num = 123\n",
    "str1 = \"this is a {:.3f}\".format(num)\n",
    "print(str1)\n",
    "\n",
    "num = 123.123456\n",
    "str1 = \"this is a {:.3f}\".format(num)\n",
    "print(str1)\n",
    "\n",
    "num = 123123456\n",
    "str1 = \"this is a {:,}\".format(num)\n",
    "print(str1)\n",
    "\n",
    "str1 = \"this is %s formatted %s\" % ('s1', 's2')\n",
    "print(str1)\n",
    "\n",
    "str1 = 'bill'\n",
    "str2 = f\"this is a {str1}\"\n",
    "print(str2)\n",
    "\n",
    "str1 = 'bill'\n",
    "str2 = f\"this is a {str1:>30}\"\n",
    "print(str2)\n",
    "\n",
    "str1 = 'bill'\n",
    "str2 = f\"this is a {str1:<30}\" + \"X\"\n",
    "print(str2)\n",
    "\n",
    "str1 = 'bill'\n",
    "str2 = f\"this is a {str1:$^30}\"\n",
    "print(str2)\n",
    "\n",
    "num = 54\n",
    "str1 = f\"int: {num:d}, hex: {num:x}, oct {num:o}, bin: {num:b}\"\n",
    "print(str1)\n",
    "\n",
    "water = 6\n",
    "cup = 30\n",
    "str2 = f\"water/cup ratio: {water/cup:.2%}\"\n",
    "print(str2)\n",
    "\n",
    "str1 = \"this string is {}\"\n",
    "print(str1.format('open'))"
   ]
  },
  {
   "cell_type": "code",
   "execution_count": 42,
   "id": "93b675e6",
   "metadata": {},
   "outputs": [
    {
     "name": "stdout",
     "output_type": "stream",
     "text": [
      "JON was the WINNER\n"
     ]
    }
   ],
   "source": [
    "from string import Template\n",
    "\n",
    "str1 = Template(\"$who was the $what\")\n",
    "print(str1.substitute(who=\"JON\", what=\"WINNER\"))"
   ]
  }
 ],
 "metadata": {
  "kernelspec": {
   "display_name": "Python 3",
   "language": "python",
   "name": "python3"
  },
  "language_info": {
   "codemirror_mode": {
    "name": "ipython",
    "version": 3
   },
   "file_extension": ".py",
   "mimetype": "text/x-python",
   "name": "python",
   "nbconvert_exporter": "python",
   "pygments_lexer": "ipython3",
   "version": "3.8.8"
  }
 },
 "nbformat": 4,
 "nbformat_minor": 5
}
