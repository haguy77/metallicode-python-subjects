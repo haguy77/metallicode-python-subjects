{
 "cells": [
  {
   "cell_type": "code",
   "execution_count": 1,
   "id": "e974eb2b",
   "metadata": {},
   "outputs": [],
   "source": [
    "import datetime"
   ]
  },
  {
   "cell_type": "code",
   "execution_count": 15,
   "id": "10347949",
   "metadata": {},
   "outputs": [
    {
     "name": "stdout",
     "output_type": "stream",
     "text": [
      "2022-03-05 15:45:55.404351\n",
      "<class 'datetime.datetime'>\n"
     ]
    }
   ],
   "source": [
    "print(datetime.datetime.today())\n",
    "print(type(datetime.datetime.today()))"
   ]
  },
  {
   "cell_type": "code",
   "execution_count": 22,
   "id": "230417ff",
   "metadata": {},
   "outputs": [
    {
     "name": "stdout",
     "output_type": "stream",
     "text": [
      "Saturday\n",
      "March\n",
      "2022\n",
      "Sat Mar  5 15:47:34 2022\n",
      "<class 'str'>\n"
     ]
    }
   ],
   "source": [
    "x = datetime.datetime.today()\n",
    "print(x.strftime(\"%A\"))\n",
    "print(x.strftime(\"%B\"))\n",
    "print(x.strftime(\"%Y\"))\n",
    "print(x.strftime(\"%c\"))\n",
    "print(type(x.strftime(\"%x\")))"
   ]
  },
  {
   "cell_type": "code",
   "execution_count": 45,
   "id": "46ec5d8d",
   "metadata": {},
   "outputs": [
    {
     "name": "stdout",
     "output_type": "stream",
     "text": [
      "2022-03-05 15:50:14.872133\n",
      "1 day, 3:00:00\n",
      "2022-03-04 12:50:14.872133\n",
      "2022-03-06 18:50:14.872133\n",
      "0:00:00.037025\n"
     ]
    }
   ],
   "source": [
    "now = datetime.datetime.today()\n",
    "\n",
    "one_day_three_hours = datetime.timedelta(days=1, hours=3)\n",
    "\n",
    "print(now)\n",
    "print(one_day_three_hours)\n",
    "\n",
    "print(now - one_day_three_hours)\n",
    "print(now + one_day_three_hours)\n",
    "\n",
    "for i in range(1000000):\n",
    "    pass\n",
    "now_2 = datetime.datetime.today()\n",
    "print(now_2 - now)"
   ]
  },
  {
   "cell_type": "code",
   "execution_count": 47,
   "id": "b685694d",
   "metadata": {},
   "outputs": [
    {
     "name": "stdout",
     "output_type": "stream",
     "text": [
      "hello\n",
      "bye!\n"
     ]
    }
   ],
   "source": [
    "import time\n",
    "\n",
    "print(\"hello\")\n",
    "\n",
    "time.sleep(3)\n",
    "\n",
    "print(\"bye!\")"
   ]
  },
  {
   "cell_type": "code",
   "execution_count": 48,
   "id": "2bbff656",
   "metadata": {},
   "outputs": [],
   "source": [
    "import calendar"
   ]
  },
  {
   "cell_type": "code",
   "execution_count": 52,
   "id": "a49a7066",
   "metadata": {
    "scrolled": true
   },
   "outputs": [
    {
     "name": "stdout",
     "output_type": "stream",
     "text": [
      "                                                                                                         2022\n",
      "\n",
      "                               January                                                                 February                                                                 March\n",
      "  Monday   Tuesday  Wednesday  Thursday   Friday   Saturday   Sunday      Monday   Tuesday  Wednesday  Thursday   Friday   Saturday   Sunday      Monday   Tuesday  Wednesday  Thursday   Friday   Saturday   Sunday\n",
      "                                                       1         2                     1         2         3         4         5         6                     1         2         3         4         5         6\n",
      "     3         4         5         6         7         8         9           7         8         9        10        11        12        13           7         8         9        10        11        12        13\n",
      "    10        11        12        13        14        15        16          14        15        16        17        18        19        20          14        15        16        17        18        19        20\n",
      "    17        18        19        20        21        22        23          21        22        23        24        25        26        27          21        22        23        24        25        26        27\n",
      "    24        25        26        27        28        29        30          28                                                                      28        29        30        31\n",
      "    31\n",
      "\n",
      "                                April                                                                    May                                                                     June\n",
      "  Monday   Tuesday  Wednesday  Thursday   Friday   Saturday   Sunday      Monday   Tuesday  Wednesday  Thursday   Friday   Saturday   Sunday      Monday   Tuesday  Wednesday  Thursday   Friday   Saturday   Sunday\n",
      "                                             1         2         3                                                                       1                               1         2         3         4         5\n",
      "     4         5         6         7         8         9        10           2         3         4         5         6         7         8           6         7         8         9        10        11        12\n",
      "    11        12        13        14        15        16        17           9        10        11        12        13        14        15          13        14        15        16        17        18        19\n",
      "    18        19        20        21        22        23        24          16        17        18        19        20        21        22          20        21        22        23        24        25        26\n",
      "    25        26        27        28        29        30                    23        24        25        26        27        28        29          27        28        29        30\n",
      "                                                                            30        31\n",
      "\n",
      "                                 July                                                                   August                                                                September\n",
      "  Monday   Tuesday  Wednesday  Thursday   Friday   Saturday   Sunday      Monday   Tuesday  Wednesday  Thursday   Friday   Saturday   Sunday      Monday   Tuesday  Wednesday  Thursday   Friday   Saturday   Sunday\n",
      "                                             1         2         3           1         2         3         4         5         6         7                                         1         2         3         4\n",
      "     4         5         6         7         8         9        10           8         9        10        11        12        13        14           5         6         7         8         9        10        11\n",
      "    11        12        13        14        15        16        17          15        16        17        18        19        20        21          12        13        14        15        16        17        18\n",
      "    18        19        20        21        22        23        24          22        23        24        25        26        27        28          19        20        21        22        23        24        25\n",
      "    25        26        27        28        29        30        31          29        30        31                                                  26        27        28        29        30\n",
      "\n",
      "                               October                                                                 November                                                                December\n",
      "  Monday   Tuesday  Wednesday  Thursday   Friday   Saturday   Sunday      Monday   Tuesday  Wednesday  Thursday   Friday   Saturday   Sunday      Monday   Tuesday  Wednesday  Thursday   Friday   Saturday   Sunday\n",
      "                                                       1         2                     1         2         3         4         5         6                                         1         2         3         4\n",
      "     3         4         5         6         7         8         9           7         8         9        10        11        12        13           5         6         7         8         9        10        11\n",
      "    10        11        12        13        14        15        16          14        15        16        17        18        19        20          12        13        14        15        16        17        18\n",
      "    17        18        19        20        21        22        23          21        22        23        24        25        26        27          19        20        21        22        23        24        25\n",
      "    24        25        26        27        28        29        30          28        29        30                                                  26        27        28        29        30        31\n",
      "    31\n",
      "\n"
     ]
    }
   ],
   "source": [
    "print(calendar.calendar(2022, w=9, l=1, c=3))"
   ]
  }
 ],
 "metadata": {
  "kernelspec": {
   "display_name": "Python 3",
   "language": "python",
   "name": "python3"
  },
  "language_info": {
   "codemirror_mode": {
    "name": "ipython",
    "version": 3
   },
   "file_extension": ".py",
   "mimetype": "text/x-python",
   "name": "python",
   "nbconvert_exporter": "python",
   "pygments_lexer": "ipython3",
   "version": "3.8.8"
  }
 },
 "nbformat": 4,
 "nbformat_minor": 5
}
